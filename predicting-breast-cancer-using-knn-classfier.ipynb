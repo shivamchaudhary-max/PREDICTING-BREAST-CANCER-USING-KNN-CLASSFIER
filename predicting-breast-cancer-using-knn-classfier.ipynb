{
 "cells": [
  {
   "cell_type": "code",
   "execution_count": 1,
   "id": "00e713c0",
   "metadata": {
    "execution": {
     "iopub.execute_input": "2022-01-21T08:02:40.955481Z",
     "iopub.status.busy": "2022-01-21T08:02:40.953203Z",
     "iopub.status.idle": "2022-01-21T08:02:42.155682Z",
     "shell.execute_reply": "2022-01-21T08:02:42.154945Z",
     "shell.execute_reply.started": "2022-01-21T07:58:29.535302Z"
    },
    "papermill": {
     "duration": 1.222475,
     "end_time": "2022-01-21T08:02:42.155874",
     "exception": false,
     "start_time": "2022-01-21T08:02:40.933399",
     "status": "completed"
    },
    "tags": []
   },
   "outputs": [],
   "source": [
    "import pandas as pd\n",
    "import numpy as np\n",
    "from sklearn.neighbors  import KNeighborsClassifier\n",
    "#from sklearn import metrics\n",
    "from sklearn import model_selection\n",
    "from sklearn.model_selection import train_test_split\n",
    "from sklearn.model_selection import StratifiedKFold\n",
    "from sklearn.model_selection import KFold\n",
    "import matplotlib.pyplot as plt"
   ]
  },
  {
   "cell_type": "code",
   "execution_count": 2,
   "id": "9a0dc226",
   "metadata": {
    "execution": {
     "iopub.execute_input": "2022-01-21T08:02:42.188325Z",
     "iopub.status.busy": "2022-01-21T08:02:42.187242Z",
     "iopub.status.idle": "2022-01-21T08:02:42.207621Z",
     "shell.execute_reply": "2022-01-21T08:02:42.208183Z",
     "shell.execute_reply.started": "2022-01-21T07:59:17.182250Z"
    },
    "papermill": {
     "duration": 0.037662,
     "end_time": "2022-01-21T08:02:42.208379",
     "exception": false,
     "start_time": "2022-01-21T08:02:42.170717",
     "status": "completed"
    },
    "tags": []
   },
   "outputs": [],
   "source": [
    "bc=pd.read_csv('../input/breast-cancer-dataset/breast-cancer-wisconsin.csv')"
   ]
  },
  {
   "cell_type": "code",
   "execution_count": 3,
   "id": "d47c5f2f",
   "metadata": {
    "execution": {
     "iopub.execute_input": "2022-01-21T08:02:42.239580Z",
     "iopub.status.busy": "2022-01-21T08:02:42.238531Z",
     "iopub.status.idle": "2022-01-21T08:02:42.261435Z",
     "shell.execute_reply": "2022-01-21T08:02:42.261996Z",
     "shell.execute_reply.started": "2022-01-21T07:59:28.845803Z"
    },
    "papermill": {
     "duration": 0.040396,
     "end_time": "2022-01-21T08:02:42.262176",
     "exception": false,
     "start_time": "2022-01-21T08:02:42.221780",
     "status": "completed"
    },
    "tags": []
   },
   "outputs": [
    {
     "data": {
      "text/html": [
       "<div>\n",
       "<style scoped>\n",
       "    .dataframe tbody tr th:only-of-type {\n",
       "        vertical-align: middle;\n",
       "    }\n",
       "\n",
       "    .dataframe tbody tr th {\n",
       "        vertical-align: top;\n",
       "    }\n",
       "\n",
       "    .dataframe thead th {\n",
       "        text-align: right;\n",
       "    }\n",
       "</style>\n",
       "<table border=\"1\" class=\"dataframe\">\n",
       "  <thead>\n",
       "    <tr style=\"text-align: right;\">\n",
       "      <th></th>\n",
       "      <th>sample_code</th>\n",
       "      <th>clump_thickness</th>\n",
       "      <th>cell_size</th>\n",
       "      <th>cell_shape</th>\n",
       "      <th>marg_adhes</th>\n",
       "      <th>epi_cell_size</th>\n",
       "      <th>bare_nuc</th>\n",
       "      <th>bland_chr</th>\n",
       "      <th>normal_nuc</th>\n",
       "      <th>motoses</th>\n",
       "      <th>class</th>\n",
       "    </tr>\n",
       "  </thead>\n",
       "  <tbody>\n",
       "    <tr>\n",
       "      <th>0</th>\n",
       "      <td>1002945</td>\n",
       "      <td>5</td>\n",
       "      <td>4</td>\n",
       "      <td>4</td>\n",
       "      <td>5</td>\n",
       "      <td>7</td>\n",
       "      <td>10</td>\n",
       "      <td>3</td>\n",
       "      <td>2</td>\n",
       "      <td>1</td>\n",
       "      <td>2</td>\n",
       "    </tr>\n",
       "    <tr>\n",
       "      <th>1</th>\n",
       "      <td>1015425</td>\n",
       "      <td>3</td>\n",
       "      <td>1</td>\n",
       "      <td>1</td>\n",
       "      <td>1</td>\n",
       "      <td>2</td>\n",
       "      <td>2</td>\n",
       "      <td>3</td>\n",
       "      <td>1</td>\n",
       "      <td>1</td>\n",
       "      <td>2</td>\n",
       "    </tr>\n",
       "    <tr>\n",
       "      <th>2</th>\n",
       "      <td>1016277</td>\n",
       "      <td>6</td>\n",
       "      <td>8</td>\n",
       "      <td>8</td>\n",
       "      <td>1</td>\n",
       "      <td>3</td>\n",
       "      <td>4</td>\n",
       "      <td>3</td>\n",
       "      <td>7</td>\n",
       "      <td>1</td>\n",
       "      <td>2</td>\n",
       "    </tr>\n",
       "    <tr>\n",
       "      <th>3</th>\n",
       "      <td>1017023</td>\n",
       "      <td>4</td>\n",
       "      <td>1</td>\n",
       "      <td>1</td>\n",
       "      <td>3</td>\n",
       "      <td>2</td>\n",
       "      <td>1</td>\n",
       "      <td>3</td>\n",
       "      <td>1</td>\n",
       "      <td>1</td>\n",
       "      <td>2</td>\n",
       "    </tr>\n",
       "    <tr>\n",
       "      <th>4</th>\n",
       "      <td>1017122</td>\n",
       "      <td>8</td>\n",
       "      <td>10</td>\n",
       "      <td>10</td>\n",
       "      <td>8</td>\n",
       "      <td>7</td>\n",
       "      <td>10</td>\n",
       "      <td>9</td>\n",
       "      <td>7</td>\n",
       "      <td>1</td>\n",
       "      <td>4</td>\n",
       "    </tr>\n",
       "  </tbody>\n",
       "</table>\n",
       "</div>"
      ],
      "text/plain": [
       "   sample_code  clump_thickness  cell_size  cell_shape  marg_adhes  \\\n",
       "0      1002945                5          4           4           5   \n",
       "1      1015425                3          1           1           1   \n",
       "2      1016277                6          8           8           1   \n",
       "3      1017023                4          1           1           3   \n",
       "4      1017122                8         10          10           8   \n",
       "\n",
       "   epi_cell_size bare_nuc  bland_chr  normal_nuc  motoses  class  \n",
       "0              7       10          3           2        1      2  \n",
       "1              2        2          3           1        1      2  \n",
       "2              3        4          3           7        1      2  \n",
       "3              2        1          3           1        1      2  \n",
       "4              7       10          9           7        1      4  "
      ]
     },
     "execution_count": 3,
     "metadata": {},
     "output_type": "execute_result"
    }
   ],
   "source": [
    "bc.head()"
   ]
  },
  {
   "cell_type": "code",
   "execution_count": 4,
   "id": "15a6a6be",
   "metadata": {
    "execution": {
     "iopub.execute_input": "2022-01-21T08:02:42.295121Z",
     "iopub.status.busy": "2022-01-21T08:02:42.294037Z",
     "iopub.status.idle": "2022-01-21T08:02:42.303450Z",
     "shell.execute_reply": "2022-01-21T08:02:42.304096Z",
     "shell.execute_reply.started": "2022-01-21T07:59:40.908693Z"
    },
    "papermill": {
     "duration": 0.027556,
     "end_time": "2022-01-21T08:02:42.304275",
     "exception": false,
     "start_time": "2022-01-21T08:02:42.276719",
     "status": "completed"
    },
    "tags": []
   },
   "outputs": [
    {
     "data": {
      "text/plain": [
       "sample_code        0\n",
       "clump_thickness    0\n",
       "cell_size          0\n",
       "cell_shape         0\n",
       "marg_adhes         0\n",
       "epi_cell_size      0\n",
       "bare_nuc           0\n",
       "bland_chr          0\n",
       "normal_nuc         0\n",
       "motoses            0\n",
       "class              0\n",
       "dtype: int64"
      ]
     },
     "execution_count": 4,
     "metadata": {},
     "output_type": "execute_result"
    }
   ],
   "source": [
    "bc.isnull().sum()"
   ]
  },
  {
   "cell_type": "code",
   "execution_count": 5,
   "id": "87dbd0e8",
   "metadata": {
    "execution": {
     "iopub.execute_input": "2022-01-21T08:02:42.338314Z",
     "iopub.status.busy": "2022-01-21T08:02:42.337190Z",
     "iopub.status.idle": "2022-01-21T08:02:42.349095Z",
     "shell.execute_reply": "2022-01-21T08:02:42.348394Z",
     "shell.execute_reply.started": "2022-01-21T07:59:53.688874Z"
    },
    "papermill": {
     "duration": 0.030223,
     "end_time": "2022-01-21T08:02:42.349245",
     "exception": false,
     "start_time": "2022-01-21T08:02:42.319022",
     "status": "completed"
    },
    "tags": []
   },
   "outputs": [],
   "source": [
    "bc=bc.drop(columns=['bare_nuc'])"
   ]
  },
  {
   "cell_type": "code",
   "execution_count": 6,
   "id": "7b7110c1",
   "metadata": {
    "execution": {
     "iopub.execute_input": "2022-01-21T08:02:42.384999Z",
     "iopub.status.busy": "2022-01-21T08:02:42.384260Z",
     "iopub.status.idle": "2022-01-21T08:02:42.386060Z",
     "shell.execute_reply": "2022-01-21T08:02:42.386727Z",
     "shell.execute_reply.started": "2022-01-21T08:00:06.226524Z"
    },
    "papermill": {
     "duration": 0.022994,
     "end_time": "2022-01-21T08:02:42.386927",
     "exception": false,
     "start_time": "2022-01-21T08:02:42.363933",
     "status": "completed"
    },
    "tags": []
   },
   "outputs": [],
   "source": [
    "x=bc.iloc[:,0:9]\n",
    "y=bc.iloc[:,9]\n"
   ]
  },
  {
   "cell_type": "code",
   "execution_count": 7,
   "id": "6afd815a",
   "metadata": {
    "execution": {
     "iopub.execute_input": "2022-01-21T08:02:42.420231Z",
     "iopub.status.busy": "2022-01-21T08:02:42.419145Z",
     "iopub.status.idle": "2022-01-21T08:02:42.427867Z",
     "shell.execute_reply": "2022-01-21T08:02:42.427173Z",
     "shell.execute_reply.started": "2022-01-21T08:00:17.691481Z"
    },
    "papermill": {
     "duration": 0.026634,
     "end_time": "2022-01-21T08:02:42.428024",
     "exception": false,
     "start_time": "2022-01-21T08:02:42.401390",
     "status": "completed"
    },
    "tags": []
   },
   "outputs": [],
   "source": [
    "x_train,x_test,y_train,y_test = train_test_split(x,y,test_size=0.4,random_state=0)"
   ]
  },
  {
   "cell_type": "code",
   "execution_count": 8,
   "id": "581bdc7b",
   "metadata": {
    "execution": {
     "iopub.execute_input": "2022-01-21T08:02:42.463235Z",
     "iopub.status.busy": "2022-01-21T08:02:42.462173Z",
     "iopub.status.idle": "2022-01-21T08:02:42.465427Z",
     "shell.execute_reply": "2022-01-21T08:02:42.464746Z",
     "shell.execute_reply.started": "2022-01-21T08:00:31.628341Z"
    },
    "papermill": {
     "duration": 0.023142,
     "end_time": "2022-01-21T08:02:42.465616",
     "exception": false,
     "start_time": "2022-01-21T08:02:42.442474",
     "status": "completed"
    },
    "tags": []
   },
   "outputs": [],
   "source": [
    "#Setup arrays to store training and test accuracies\n",
    "neighbors = np.arange(1,12)\n",
    "neighbors\n",
    "train_accuracy =np.empty(len(neighbors))\n",
    "test_accuracy = np.empty(len(neighbors))\n"
   ]
  },
  {
   "cell_type": "code",
   "execution_count": 9,
   "id": "5652b27b",
   "metadata": {
    "execution": {
     "iopub.execute_input": "2022-01-21T08:02:42.507575Z",
     "iopub.status.busy": "2022-01-21T08:02:42.506391Z",
     "iopub.status.idle": "2022-01-21T08:02:42.939819Z",
     "shell.execute_reply": "2022-01-21T08:02:42.939182Z",
     "shell.execute_reply.started": "2022-01-21T08:00:44.306746Z"
    },
    "papermill": {
     "duration": 0.45986,
     "end_time": "2022-01-21T08:02:42.939980",
     "exception": false,
     "start_time": "2022-01-21T08:02:42.480120",
     "status": "completed"
    },
    "tags": []
   },
   "outputs": [],
   "source": [
    "for i,k in enumerate(neighbors):\n",
    "    #Setup a knn classifier with k neighbors\n",
    "    knn = KNeighborsClassifier(n_neighbors=k)\n",
    "    \n",
    "    #Fit the model\n",
    "    knn.fit(x_train, y_train)\n",
    "    \n",
    "    #Compute accuracy on the training set\n",
    "    train_accuracy[i] = knn.score(x_train, y_train)\n",
    "    \n",
    "    #Compute accuracy on the test set\n",
    "    test_accuracy[i] = knn.score(x_test, y_test)\n",
    "    "
   ]
  },
  {
   "cell_type": "code",
   "execution_count": 10,
   "id": "e5339e6b",
   "metadata": {
    "execution": {
     "iopub.execute_input": "2022-01-21T08:02:42.982133Z",
     "iopub.status.busy": "2022-01-21T08:02:42.981078Z",
     "iopub.status.idle": "2022-01-21T08:02:43.242566Z",
     "shell.execute_reply": "2022-01-21T08:02:43.241724Z",
     "shell.execute_reply.started": "2022-01-21T08:00:56.593858Z"
    },
    "papermill": {
     "duration": 0.286023,
     "end_time": "2022-01-21T08:02:43.242723",
     "exception": false,
     "start_time": "2022-01-21T08:02:42.956700",
     "status": "completed"
    },
    "tags": []
   },
   "outputs": [
    {
     "data": {
      "image/png": "[encoded data removed]",
      "text/plain": [
       "<Figure size 432x288 with 1 Axes>"
      ]
     },
     "metadata": {
      "needs_background": "light"
     },
     "output_type": "display_data"
    }
   ],
   "source": [
    "#Generate plot\n",
    "plt.title('k-NN Varying number of neighbors')\n",
    "plt.plot(neighbors, test_accuracy, label='Testing Accuracy')\n",
    "plt.plot(neighbors, train_accuracy, label='Training accuracy')\n",
    "plt.legend()\n",
    "plt.xlabel('Number of neighbors')\n",
    "plt.ylabel('Accuracy')\n",
    "plt.show()"
   ]
  },
  {
   "cell_type": "code",
   "execution_count": 11,
   "id": "b56959dd",
   "metadata": {
    "execution": {
     "iopub.execute_input": "2022-01-21T08:02:43.282610Z",
     "iopub.status.busy": "2022-01-21T08:02:43.281889Z",
     "iopub.status.idle": "2022-01-21T08:02:43.287763Z",
     "shell.execute_reply": "2022-01-21T08:02:43.288318Z",
     "shell.execute_reply.started": "2022-01-21T08:01:11.904144Z"
    },
    "papermill": {
     "duration": 0.030185,
     "end_time": "2022-01-21T08:02:43.288497",
     "exception": false,
     "start_time": "2022-01-21T08:02:43.258312",
     "status": "completed"
    },
    "tags": []
   },
   "outputs": [
    {
     "data": {
      "text/plain": [
       "KNeighborsClassifier(n_neighbors=10)"
      ]
     },
     "execution_count": 11,
     "metadata": {},
     "output_type": "execute_result"
    }
   ],
   "source": [
    "#Setup a knn classifier with k neighbors\n",
    "knn = KNeighborsClassifier(n_neighbors=10)\n",
    "#Fit the model\n",
    "knn.fit(x_train,y_train)"
   ]
  },
  {
   "cell_type": "code",
   "execution_count": 12,
   "id": "61c599b5",
   "metadata": {
    "execution": {
     "iopub.execute_input": "2022-01-21T08:02:43.323878Z",
     "iopub.status.busy": "2022-01-21T08:02:43.323136Z",
     "iopub.status.idle": "2022-01-21T08:02:43.346257Z",
     "shell.execute_reply": "2022-01-21T08:02:43.346847Z",
     "shell.execute_reply.started": "2022-01-21T08:01:25.427031Z"
    },
    "papermill": {
     "duration": 0.042568,
     "end_time": "2022-01-21T08:02:43.347033",
     "exception": false,
     "start_time": "2022-01-21T08:02:43.304465",
     "status": "completed"
    },
    "tags": []
   },
   "outputs": [
    {
     "data": {
      "text/plain": [
       "0.65"
      ]
     },
     "execution_count": 12,
     "metadata": {},
     "output_type": "execute_result"
    }
   ],
   "source": [
    "#Get accuracy. Note: In case of classification algorithms score method represents accuracy.\n",
    "knn.score(x_test,y_test)"
   ]
  },
  {
   "cell_type": "code",
   "execution_count": 13,
   "id": "a6fdfc9e",
   "metadata": {
    "execution": {
     "iopub.execute_input": "2022-01-21T08:02:43.388096Z",
     "iopub.status.busy": "2022-01-21T08:02:43.386894Z",
     "iopub.status.idle": "2022-01-21T08:02:43.409125Z",
     "shell.execute_reply": "2022-01-21T08:02:43.408587Z",
     "shell.execute_reply.started": "2022-01-21T08:01:35.433293Z"
    },
    "papermill": {
     "duration": 0.046452,
     "end_time": "2022-01-21T08:02:43.409286",
     "exception": false,
     "start_time": "2022-01-21T08:02:43.362834",
     "status": "completed"
    },
    "tags": []
   },
   "outputs": [
    {
     "data": {
      "text/plain": [
       "array([[155,  24],\n",
       "       [ 74,  27]])"
      ]
     },
     "execution_count": 13,
     "metadata": {},
     "output_type": "execute_result"
    }
   ],
   "source": [
    "#import confusion_matrix\n",
    "from sklearn.metrics import confusion_matrix\n",
    "#let us get the predictions using the classifier we had fit above\n",
    "y_pred = knn.predict(x_test)\n",
    "confusion_matrix(y_test,y_pred)"
   ]
  },
  {
   "cell_type": "code",
   "execution_count": null,
   "id": "dc02bda2",
   "metadata": {
    "papermill": {
     "duration": 0.016519,
     "end_time": "2022-01-21T08:02:43.442286",
     "exception": false,
     "start_time": "2022-01-21T08:02:43.425767",
     "status": "completed"
    },
    "tags": []
   },
   "outputs": [],
   "source": []
  }
 ],
 "metadata": {
  "kernelspec": {
   "display_name": "Python 3",
   "language": "python",
   "name": "python3"
  },
  "language_info": {
   "codemirror_mode": {
    "name": "ipython",
    "version": 3
   },
   "file_extension": ".py",
   "mimetype": "text/x-python",
   "name": "python",
   "nbconvert_exporter": "python",
   "pygments_lexer": "ipython3",
   "version": "3.7.12"
  },
  "papermill": {
   "default_parameters": {},
   "duration": 13.568194,
   "end_time": "2022-01-21T08:02:44.171058",
   "environment_variables": {},
   "exception": null,
   "input_path": "__notebook__.ipynb",
   "output_path": "__notebook__.ipynb",
   "parameters": {},
   "start_time": "2022-01-21T08:02:30.602864",
   "version": "2.3.3"
  }
 },
 "nbformat": 4,
 "nbformat_minor": 5
}
